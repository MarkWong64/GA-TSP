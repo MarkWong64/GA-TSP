{
 "cells": [
  {
   "cell_type": "markdown",
   "metadata": {},
   "source": [
    "<h1><b>Solving the Travelling Salesman Problem (TSP) by the Genetic Algorithm (GA)</b></h1>\n",
    "<h2><b>The Travelling Salesman Problem (TSP)</b></h2>\n",
    "<p1>It is defined as:\n",
    "\n",
    "<i>Given a set of waypoints and distances between them, find the shortest possible route that visits each waypoint once, then return to the initial waypoint</i>\n",
    "\n",
    "</p1>\n",
    "\n",
    "The TSP is a minimization problem, and the objective function is stated as the following:\n",
    "\n",
    "\\begin{align}\n",
    "Minimize:\n",
    "\\sum_{i=1}^{n} \\sum_{j=1}^{n} d_{ij} x_{ij}\n",
    "\\end{align}\n",
    "\n",
    "where "
   ]
  },
  {
   "cell_type": "code",
   "execution_count": 40,
   "metadata": {},
   "outputs": [],
   "source": [
    "\"\"\"Import Libraries\"\"\"\n",
    "import csv\n",
    "import googlemaps\n",
    "import math\n",
    "import pandas as pd\n",
    "import random\n",
    "import time"
   ]
  },
  {
   "cell_type": "code",
   "execution_count": 2,
   "metadata": {},
   "outputs": [],
   "source": [
    "\"\"\"Dataset of Station Address and Coordinates\"\"\"\n",
    "geo_data = pd.read_csv(\"50_Landmarks.csv\") \n",
    "stations = geo_data[\"Station\"]"
   ]
  },
  {
   "cell_type": "code",
   "execution_count": null,
   "metadata": {},
   "outputs": [],
   "source": [
    "\"\"\"Setup of Google Maps API\"\"\"\n"
   ]
  },
  {
   "cell_type": "code",
   "execution_count": 3,
   "metadata": {},
   "outputs": [],
   "source": [
    "\"\"\"Distance Matrix of \"\"\"\n",
    "dm_data = \"50_Landmarks_Distance_Matrix.csv\"\n",
    "\n",
    "with open(dm_data, newline=\"\") as csvfile: # Read and convert distance matrix into a 2D list\n",
    "    reader = csv.reader(csvfile, quoting=csv.QUOTE_NONNUMERIC)\n",
    "    dis_mtx = list(reader)"
   ]
  },
  {
   "cell_type": "code",
   "execution_count": 36,
   "metadata": {},
   "outputs": [],
   "source": [
    "class GA:\n",
    "\n",
    "    def __init__(self, distance_matrix, population_size, num_generations, mutation_rate):  # Initialize data structures and parameters\n",
    "        self.dm = distance_matrix\n",
    "        self.pop = population_size\n",
    "        self.generations = num_generations\n",
    "        self.mutate = mutation_rate\n",
    "        self.stations = list(range(len(distance_matrix)))\n",
    "        self.population = []\n",
    "        self.pool = []\n",
    "        self.best = ()\n",
    "\n",
    "\n",
    "    def generate_routes(self):\n",
    "        stations = self.stations[:]\n",
    "        for i in range(self.pop):\n",
    "            random.shuffle(stations)\n",
    "            self.population.append((stations[:], self.total_distance(stations[:])))\n",
    "\n",
    "\n",
    "    def total_distance(self, route):\n",
    "        length = 0\n",
    "        for i in range(len(self.dm)):\n",
    "            node_1 = route[i-1]\n",
    "            node_2 = route[i]\n",
    "            length += self.dm[node_1][node_2]\n",
    "        return length\n",
    "\n",
    "        \n",
    "    def selection(self):\n",
    "        sorted_population = sorted(self.population, key=lambda x: x[1], reverse=False)\n",
    "        self.pool = sorted_population[:int(math.ceil(self.pop / 10))]\n",
    "        self.best = self.pool[0]\n",
    "        self.population = self.pool[:]\n",
    "\n",
    "    \n",
    "    def mutation(self):\n",
    "        for candidate in self.population:\n",
    "            \n",
    "            for k in range(self.mutate):\n",
    "                route = candidate[0][:]\n",
    "                start_index = random.randint(0, len(route) - 1)\n",
    "                length = random.randint(2, len(self.dm) // 2)\n",
    "\n",
    "                subset = route[start_index:start_index + length]\n",
    "                route = route[:start_index] + route[start_index + length:]\n",
    "\n",
    "                insert_index = random.randint(0, len(route) + len(subset) - 1)\n",
    "                route = route[:insert_index] + subset + route[insert_index:]\n",
    "                self.pool.append((route, self.total_distance(route)))\n",
    "                \n",
    "        self.population = self.pool[:]\n",
    "        self.pool = []\n",
    "\n",
    "\n",
    "    def run(self):\n",
    "        start_time = time.time()\n",
    "        self.generate_routes()\n",
    "        for k in range(self.generations):\n",
    "            self.selection()\n",
    "            self.mutation()\n",
    "        \n",
    "        converted_route = [stations[index] for index in self.best[0]]\n",
    "        end_time = time.time()\n",
    "        time_diff = end_time - start_time\n",
    "        return converted_route, self.best[1], time_diff"
   ]
  },
  {
   "cell_type": "code",
   "execution_count": 39,
   "metadata": {},
   "outputs": [
    {
     "name": "stdout",
     "output_type": "stream",
     "text": [
      "The best route found: ['Chickasaw National Recreation Area, 1008 W 2nd St, Sulphur, OK 73086', 'The Alamo, Alamo Plaza, San Antonio, TX', 'Carlsbad Caverns National Park, Carlsbad, NM', 'Cable Car Museum, 94108, 1201 Mason St, San Francisco, CA 94108', 'Bryce Canyon National Park, Hwy 63, Bryce, UT', 'USS Alabama, Battleship Parkway, Mobile, AL', 'Hoover Dam, NV', 'Toltec Mounds, Scott, AR', 'San Andreas Fault, San Benito County, CA', 'Hanford Site, Benton County, WA', 'Columbia River Gorge National Scenic Area, Oregon', 'Craters of the Moon National Monument & Preserve, Arco, ID', 'Yellowstone National Park, WY 82190', 'Glacier National Park, West Glacier, MT', 'Fort Union Trading Post National Historic Site, Williston, North Dakota 1804, ND', 'Mount Rushmore National Memorial, South Dakota 244, Keystone, SD', 'Ashfall Fossil Bed, Royal, NE', 'Fort Snelling, Tower Avenue, Saint Paul, MN', 'Terrace Hill, Grand Avenue, Des Moines, IA', 'Taliesin, County Road C, Spring Green, Wisconsin', 'Olympia Entertainment, Woodward Avenue, Detroit, MI', 'Spring Grove Cemetery, Spring Grove Avenue, Cincinnati, OH', 'Mammoth Cave National Park, Mammoth Cave Pkwy, Mammoth Cave, KY', 'Graceland, Elvis Presley Boulevard, Memphis, TN', 'Grand Canyon National Park, Arizona', 'Vicksburg National Military Park, Clay Street, Vicksburg, MS', 'French Quarter, New Orleans, LA', 'White House, Pennsylvania Avenue Northwest, Washington, DC', 'Cape Canaveral, FL', 'Okefenokee Swamp Park, Okefenokee Swamp Park Road, Waycross, GA', \"Fort Sumter National Monument, Sullivan's Island, SC\", 'Mount Vernon, Fairfax County, Virginia', 'Maryland State House, 100 State Cir, Annapolis, MD 21401', 'New Castle Historic District, Delaware', 'The Mark Twain House & Museum, Farmington Avenue, Hartford, CT', 'Liberty Bell, 6th Street, Philadelphia, PA', 'Statue of Liberty, Liberty Island, NYC, NY', 'Pikes Peak, Colorado', 'The Breakers, Ochre Point Avenue, Newport, RI', 'USS Constitution, Boston, MA', 'Acadia National Park, Maine', 'Omni Mount Washington Resort, Mount Washington Hotel Road, Bretton Woods, NH', 'Shelburne Farms, Harbor Road, Shelburne, VT', 'Congress Hall, Congress Place, Cape May, NJ 08204', 'Wright Brothers National Memorial Visitor Center, Manteo, NC', 'Lost World Caverns, Lewisburg, WV', 'West Baden Springs Hotel, West Baden Avenue, West Baden Springs, IN', 'Lincoln Home National Historic Site Visitor Center, 426 South 7th Street, Springfield, IL', 'Gateway Arch, Washington Avenue, St Louis, MO', 'C. W. Parker Carousel Museum, South Esplanade Street, Leavenworth, KS']\n",
      "The total distance: 23032832.0m\n",
      "Time consumed: 2.224453926086426s\n"
     ]
    }
   ],
   "source": [
    "ga = GA(distance_matrix=dis_mtx, population_size=100, num_generations=5000, mutation_rate=9)\n",
    "route, total_distance, computational_time = ga.run()\n",
    "print(f\"The best route found: {route}\")\n",
    "print(f\"The total distance: {total_distance}m\")\n",
    "print(f\"Time consumed: {computational_time}s\")"
   ]
  }
 ],
 "metadata": {
  "kernelspec": {
   "display_name": "Python 3",
   "language": "python",
   "name": "python3"
  },
  "language_info": {
   "codemirror_mode": {
    "name": "ipython",
    "version": 3
   },
   "file_extension": ".py",
   "mimetype": "text/x-python",
   "name": "python",
   "nbconvert_exporter": "python",
   "pygments_lexer": "ipython3",
   "version": "3.12.4"
  }
 },
 "nbformat": 4,
 "nbformat_minor": 2
}
